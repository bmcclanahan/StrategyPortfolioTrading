{
 "cells": [
  {
   "cell_type": "code",
   "execution_count": 1,
   "metadata": {},
   "outputs": [],
   "source": [
    "import pandas as pd\n",
    "\n",
    "df = pd.read_parquet('portfolios/lrg_med_equity/ta_data.parquet')"
   ]
  },
  {
   "cell_type": "code",
   "execution_count": 4,
   "metadata": {},
   "outputs": [
    {
     "data": {
      "text/plain": [
       "adj_close                                     73.88\n",
       "adj_open                                      67.85\n",
       "adj_low                                        67.8\n",
       "adj_high                                      73.98\n",
       "Close                                         73.88\n",
       "symbol                                         DNLI\n",
       "sector                                  Health Care\n",
       "Date                            2021-01-07 00:00:00\n",
       "Volume                                       710900\n",
       "regime_close                                  379.1\n",
       "regime_ma                                   340.284\n",
       "sector_close                                27869.4\n",
       "sector_ma                                   23873.5\n",
       "mv_avg                                      44.9851\n",
       "200_day_high                                  93.56\n",
       "rsi                                         40.6635\n",
       "roc                                         68.7914\n",
       "roc_long                                    141.123\n",
       "roc_short                                  -11.7956\n",
       "fut_roc                                         NaN\n",
       "mfi                                         12.8867\n",
       "sto                                         20.9397\n",
       "bba                                         26.4012\n",
       "bb_high                                     94.7811\n",
       "bb_low                                      68.3799\n",
       "bb_wide_high                                101.381\n",
       "bb_slim_low                                 74.9802\n",
       "dch                                           29.37\n",
       "bba_norm                                   0.357353\n",
       "dch_norm                                   0.397537\n",
       "ma_diff_norm                                0.64232\n",
       "regime_ma_diff_norm                        0.114071\n",
       "sector_ma_diff_norm                         0.16738\n",
       "volatility                                 0.044067\n",
       "volatility_short                          0.0688923\n",
       "directional_strength                     0.00535696\n",
       "macd_diff                                  -2.84287\n",
       "quarter_x                                         1\n",
       "prev_year                                      2022\n",
       "prev_quarter                                      4\n",
       "CommonStockSharesOutstanding            1.05898e+08\n",
       "EarningsPerShareBasic                           NaN\n",
       "year                                            NaN\n",
       "quarter_y                                       NaN\n",
       "MarketCap                               7.82373e+09\n",
       "Name: 471151, dtype: object"
      ]
     },
     "execution_count": 4,
     "metadata": {},
     "output_type": "execute_result"
    }
   ],
   "source": [
    "df.loc[df.symbol == 'DNLI'].iloc[-1]"
   ]
  },
  {
   "cell_type": "code",
   "execution_count": null,
   "metadata": {},
   "outputs": [],
   "source": []
  }
 ],
 "metadata": {
  "kernelspec": {
   "display_name": "Python 3",
   "language": "python",
   "name": "python3"
  },
  "language_info": {
   "codemirror_mode": {
    "name": "ipython",
    "version": 3
   },
   "file_extension": ".py",
   "mimetype": "text/x-python",
   "name": "python",
   "nbconvert_exporter": "python",
   "pygments_lexer": "ipython3",
   "version": "3.7.6"
  }
 },
 "nbformat": 4,
 "nbformat_minor": 4
}
