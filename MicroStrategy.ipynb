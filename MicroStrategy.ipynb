{
 "cells": [
  {
   "cell_type": "code",
   "execution_count": 1,
   "metadata": {},
   "outputs": [],
   "source": [
    "import sys\n",
    "import os\n",
    "\n",
    "portfolio_dir = 'portfolios/sml_equity'\n",
    "\n",
    "sys.path.append(os.getcwd())\n",
    "os.chdir(portfolio_dir)"
   ]
  },
  {
   "cell_type": "code",
   "execution_count": null,
   "metadata": {},
   "outputs": [],
   "source": [
    "import swinging.download as download\n",
    "import pandas as pd\n",
    "import os\n",
    "import numpy as np\n",
    "\n",
    "api_key = '5e225d64b14d31.07865608'\n",
    "symbol_df_path = '../../ITOT_holdings.csv'\n",
    "\n",
    "symbol_df = pd.read_csv(symbol_df_path).dropna()\n",
    "symbol_df = symbol_df.loc[symbol_df.market_cap.str.replace(',', '').astype(np.float).between(10000,500000)]\n",
    "\n",
    "\n",
    "download.write_data_and_indices(\n",
    "    api_key, symbol_df, datadir='data',\n",
    "    symbol_output_file='all_symbols.parquet',\n",
    "    index_output_file='market_index.parquet', history_length=20\n",
    ")"
   ]
  },
  {
   "cell_type": "code",
   "execution_count": null,
   "metadata": {},
   "outputs": [],
   "source": [
    "import swinging.indicators as indicators\n",
    "\n",
    "indicators.get_ta_and_fundamental_data(fundamental_data_path='../../fundamentals_micro.parquet')"
   ]
  },
  {
   "cell_type": "code",
   "execution_count": 2,
   "metadata": {},
   "outputs": [
    {
     "name": "stderr",
     "output_type": "stream",
     "text": [
      "/Users/brianmcclanahan/git_repos/StrategyPortfolioTrading/swinging/strategy.py:105: RuntimeWarning: invalid value encountered in true_divide\n",
      "  inv_price, equity / mv_avg, (df['date'] >= pickup_dt).values,\n",
      "/Users/brianmcclanahan/git_repos/StrategyPortfolioTrading/swinging/strategy.py:105: RuntimeWarning: invalid value encountered in true_divide\n",
      "  inv_price, equity / mv_avg, (df['date'] >= pickup_dt).values,\n"
     ]
    }
   ],
   "source": [
    "from swinging.strategy import RSIStrategy, MFIStrategy, STOStrategy, BreakoutStrategy, BollingerStrategy, MACDStrategy, run_strategy_on_data\n",
    "\n",
    "#run_strategy_on_data(RSIStrategy, strategy_type='mean_reversion')\n",
    "#run_strategy_on_data(MFIStrategy, strategy_type='mean_reversion')\n",
    "#run_strategy_on_data(STOStrategy, strategy_type='mean_reversion')\n",
    "run_strategy_on_data(BreakoutStrategy, strategy_type='trend', run_length=100)\n",
    "run_strategy_on_data(BollingerStrategy, strategy_type='trend', run_length=100)\n",
    "run_strategy_on_data(MACDStrategy, strategy_type='trend', run_length=100)"
   ]
  },
  {
   "cell_type": "code",
   "execution_count": null,
   "metadata": {},
   "outputs": [],
   "source": [
    "from swinging import signals\n",
    "\n",
    "cols = ['date', 'symbol', 'pred', 'pred_score', 'volatility', 'volatility_short', 'roc', 'rsi', 'mfi', 'sto', 'bba', 'dch', 'Volume','Close', 'strategy']\n",
    "\n",
    "signals.generate_signals(cols, model_file='rfc_mr.joblib' ,ml_metafile='ml_metadata_mr.pkl', strategy_type='mean_reversion')"
   ]
  },
  {
   "cell_type": "code",
   "execution_count": null,
   "metadata": {},
   "outputs": [],
   "source": [
    "cols = ['date', 'symbol', 'pred', 'pred_score', 'volatility', 'volatility_short', 'macd_diff', 'bba', 'Close', 'Volume', 'EarningsPerShareBasic', 'strategy']\n",
    "signals.generate_signals(cols, model_file='rfc_trend.joblib' ,ml_metafile='ml_metadata_trend.pkl', strategy_type='trend')"
   ]
  },
  {
   "cell_type": "code",
   "execution_count": null,
   "metadata": {},
   "outputs": [],
   "source": []
  }
 ],
 "metadata": {
  "kernelspec": {
   "display_name": "Python 3",
   "language": "python",
   "name": "python3"
  },
  "language_info": {
   "codemirror_mode": {
    "name": "ipython",
    "version": 3
   },
   "file_extension": ".py",
   "mimetype": "text/x-python",
   "name": "python",
   "nbconvert_exporter": "python",
   "pygments_lexer": "ipython3",
   "version": "3.7.6"
  }
 },
 "nbformat": 4,
 "nbformat_minor": 4
}
